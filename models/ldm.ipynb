{
 "cells": [
  {
   "cell_type": "code",
   "execution_count": 2,
   "metadata": {},
   "outputs": [],
   "source": [
    "from model import *\n",
    "\n",
    "unet_params = {\n",
    "    'in_channels': 1,  # For mono spectrograms\n",
    "    'model_channels': 128,  # Base channel count\n",
    "    'condition_channels': 1,  # Style spectrogram channels\n",
    "    'time_emb_dim': 256  # Time embedding dimension\n",
    "}\n",
    "\n",
    "model = LatentDiffusion(\n",
    "    unet_params=unet_params,\n",
    "    beta_start=0.0001,\n",
    "    beta_end=0.02,\n",
    "    n_timesteps=1000,\n",
    "    lr=1e-4\n",
    ")"
   ]
  }
 ],
 "metadata": {
  "kernelspec": {
   "display_name": "humml",
   "language": "python",
   "name": "python3"
  },
  "language_info": {
   "codemirror_mode": {
    "name": "ipython",
    "version": 3
   },
   "file_extension": ".py",
   "mimetype": "text/x-python",
   "name": "python",
   "nbconvert_exporter": "python",
   "pygments_lexer": "ipython3",
   "version": "3.10.13"
  }
 },
 "nbformat": 4,
 "nbformat_minor": 2
}
